{
  "cells": [
    {
      "cell_type": "code",
      "execution_count": 90,
      "metadata": {
        "id": "q4PCOliu3ERp",
        "colab": {
          "base_uri": "https://localhost:8080/"
        },
        "outputId": "bbe69199-6f53-4654-d908-af56b865a2d3"
      },
      "outputs": [
        {
          "output_type": "stream",
          "name": "stdout",
          "text": [
            "Looking in indexes: https://pypi.org/simple, https://us-python.pkg.dev/colab-wheels/public/simple/\n",
            "Requirement already satisfied: streamlit==1.14.0 in /usr/local/lib/python3.8/dist-packages (1.14.0)\n",
            "Requirement already satisfied: protobuf<4,>=3.12 in /usr/local/lib/python3.8/dist-packages (from streamlit==1.14.0) (3.19.6)\n",
            "Requirement already satisfied: toml in /usr/local/lib/python3.8/dist-packages (from streamlit==1.14.0) (0.10.2)\n",
            "Requirement already satisfied: altair>=3.2.0 in /usr/local/lib/python3.8/dist-packages (from streamlit==1.14.0) (4.2.0)\n",
            "Requirement already satisfied: validators>=0.2 in /usr/local/lib/python3.8/dist-packages (from streamlit==1.14.0) (0.20.0)\n",
            "Requirement already satisfied: packaging>=14.1 in /usr/local/lib/python3.8/dist-packages (from streamlit==1.14.0) (21.3)\n",
            "Requirement already satisfied: tornado>=5.0 in /usr/local/lib/python3.8/dist-packages (from streamlit==1.14.0) (6.0.4)\n",
            "Requirement already satisfied: rich>=10.11.0 in /usr/local/lib/python3.8/dist-packages (from streamlit==1.14.0) (12.6.0)\n",
            "Requirement already satisfied: importlib-metadata>=1.4 in /usr/local/lib/python3.8/dist-packages (from streamlit==1.14.0) (5.1.0)\n",
            "Requirement already satisfied: pillow>=6.2.0 in /usr/local/lib/python3.8/dist-packages (from streamlit==1.14.0) (7.1.2)\n",
            "Requirement already satisfied: requests>=2.4 in /usr/local/lib/python3.8/dist-packages (from streamlit==1.14.0) (2.23.0)\n",
            "Requirement already satisfied: typing-extensions>=3.10.0.0 in /usr/local/lib/python3.8/dist-packages (from streamlit==1.14.0) (4.4.0)\n",
            "Requirement already satisfied: watchdog in /usr/local/lib/python3.8/dist-packages (from streamlit==1.14.0) (2.2.0)\n",
            "Requirement already satisfied: cachetools>=4.0 in /usr/local/lib/python3.8/dist-packages (from streamlit==1.14.0) (5.2.0)\n",
            "Requirement already satisfied: pydeck>=0.1.dev5 in /usr/local/lib/python3.8/dist-packages (from streamlit==1.14.0) (0.8.0)\n",
            "Requirement already satisfied: click>=7.0 in /usr/local/lib/python3.8/dist-packages (from streamlit==1.14.0) (7.1.2)\n",
            "Requirement already satisfied: pandas>=0.21.0 in /usr/local/lib/python3.8/dist-packages (from streamlit==1.14.0) (1.3.5)\n",
            "Requirement already satisfied: pympler>=0.9 in /usr/local/lib/python3.8/dist-packages (from streamlit==1.14.0) (1.0.1)\n",
            "Requirement already satisfied: gitpython!=3.1.19 in /usr/local/lib/python3.8/dist-packages (from streamlit==1.14.0) (3.1.29)\n",
            "Requirement already satisfied: tzlocal>=1.1 in /usr/local/lib/python3.8/dist-packages (from streamlit==1.14.0) (1.5.1)\n",
            "Requirement already satisfied: blinker>=1.0.0 in /usr/local/lib/python3.8/dist-packages (from streamlit==1.14.0) (1.5)\n",
            "Requirement already satisfied: numpy in /usr/local/lib/python3.8/dist-packages (from streamlit==1.14.0) (1.21.6)\n",
            "Requirement already satisfied: semver in /usr/local/lib/python3.8/dist-packages (from streamlit==1.14.0) (2.13.0)\n",
            "Requirement already satisfied: python-dateutil in /usr/local/lib/python3.8/dist-packages (from streamlit==1.14.0) (2.8.2)\n",
            "Requirement already satisfied: pyarrow>=4.0 in /usr/local/lib/python3.8/dist-packages (from streamlit==1.14.0) (9.0.0)\n",
            "Requirement already satisfied: entrypoints in /usr/local/lib/python3.8/dist-packages (from altair>=3.2.0->streamlit==1.14.0) (0.4)\n",
            "Requirement already satisfied: jinja2 in /usr/local/lib/python3.8/dist-packages (from altair>=3.2.0->streamlit==1.14.0) (2.11.3)\n",
            "Requirement already satisfied: toolz in /usr/local/lib/python3.8/dist-packages (from altair>=3.2.0->streamlit==1.14.0) (0.12.0)\n",
            "Requirement already satisfied: jsonschema>=3.0 in /usr/local/lib/python3.8/dist-packages (from altair>=3.2.0->streamlit==1.14.0) (4.3.3)\n",
            "Requirement already satisfied: gitdb<5,>=4.0.1 in /usr/local/lib/python3.8/dist-packages (from gitpython!=3.1.19->streamlit==1.14.0) (4.0.10)\n",
            "Requirement already satisfied: smmap<6,>=3.0.1 in /usr/local/lib/python3.8/dist-packages (from gitdb<5,>=4.0.1->gitpython!=3.1.19->streamlit==1.14.0) (5.0.0)\n",
            "Requirement already satisfied: zipp>=0.5 in /usr/local/lib/python3.8/dist-packages (from importlib-metadata>=1.4->streamlit==1.14.0) (3.11.0)\n",
            "Requirement already satisfied: attrs>=17.4.0 in /usr/local/lib/python3.8/dist-packages (from jsonschema>=3.0->altair>=3.2.0->streamlit==1.14.0) (22.1.0)\n",
            "Requirement already satisfied: importlib-resources>=1.4.0 in /usr/local/lib/python3.8/dist-packages (from jsonschema>=3.0->altair>=3.2.0->streamlit==1.14.0) (5.10.1)\n",
            "Requirement already satisfied: pyrsistent!=0.17.0,!=0.17.1,!=0.17.2,>=0.14.0 in /usr/local/lib/python3.8/dist-packages (from jsonschema>=3.0->altair>=3.2.0->streamlit==1.14.0) (0.19.2)\n",
            "Requirement already satisfied: pyparsing!=3.0.5,>=2.0.2 in /usr/local/lib/python3.8/dist-packages (from packaging>=14.1->streamlit==1.14.0) (3.0.9)\n",
            "Requirement already satisfied: pytz>=2017.3 in /usr/local/lib/python3.8/dist-packages (from pandas>=0.21.0->streamlit==1.14.0) (2022.6)\n",
            "Requirement already satisfied: MarkupSafe>=0.23 in /usr/local/lib/python3.8/dist-packages (from jinja2->altair>=3.2.0->streamlit==1.14.0) (2.0.1)\n",
            "Requirement already satisfied: six>=1.5 in /usr/local/lib/python3.8/dist-packages (from python-dateutil->streamlit==1.14.0) (1.15.0)\n",
            "Requirement already satisfied: urllib3!=1.25.0,!=1.25.1,<1.26,>=1.21.1 in /usr/local/lib/python3.8/dist-packages (from requests>=2.4->streamlit==1.14.0) (1.24.3)\n",
            "Requirement already satisfied: certifi>=2017.4.17 in /usr/local/lib/python3.8/dist-packages (from requests>=2.4->streamlit==1.14.0) (2022.12.7)\n",
            "Requirement already satisfied: idna<3,>=2.5 in /usr/local/lib/python3.8/dist-packages (from requests>=2.4->streamlit==1.14.0) (2.10)\n",
            "Requirement already satisfied: chardet<4,>=3.0.2 in /usr/local/lib/python3.8/dist-packages (from requests>=2.4->streamlit==1.14.0) (3.0.4)\n",
            "Requirement already satisfied: commonmark<0.10.0,>=0.9.0 in /usr/local/lib/python3.8/dist-packages (from rich>=10.11.0->streamlit==1.14.0) (0.9.1)\n",
            "Requirement already satisfied: pygments<3.0.0,>=2.6.0 in /usr/local/lib/python3.8/dist-packages (from rich>=10.11.0->streamlit==1.14.0) (2.6.1)\n",
            "Requirement already satisfied: decorator>=3.4.0 in /usr/local/lib/python3.8/dist-packages (from validators>=0.2->streamlit==1.14.0) (4.4.2)\n"
          ]
        }
      ],
      "source": [
        "!pip install streamlit==1.14.0"
      ]
    },
    {
      "cell_type": "code",
      "execution_count": 132,
      "metadata": {
        "colab": {
          "base_uri": "https://localhost:8080/"
        },
        "id": "yUk9Rq3yBsnC",
        "outputId": "042046af-877e-4d6c-87b2-74b06c81335c"
      },
      "outputs": [
        {
          "output_type": "stream",
          "name": "stdout",
          "text": [
            "Overwriting tv.py\n"
          ]
        }
      ],
      "source": [
        "%%writefile tv.py\n",
        "import altair as alt\n",
        "import pandas as pd\n",
        "import streamlit as st \n",
        "import matplotlib.pyplot as plt\n",
        "import plotly.express as px\n",
        "import graphviz\n",
        "page = st.sidebar.selectbox(\"Choose a page\", [\"Page 1\", \"Page 2\", \"Page 3\", \"Page 4\"])\n",
        "\n",
        "\n",
        "tv = pd.read_csv('data_TV.csv')\n",
        "\n",
        "def convert_df(df):\n",
        "    \n",
        "    return df.to_csv().encode('utf-8')\n",
        "\n",
        "csv = convert_df(tv)\n",
        "\n",
        "st.download_button(\n",
        "    label=\"Download data as CSV\",\n",
        "    data=csv,\n",
        "    file_name='tv_dataset.csv',\n",
        "    mime='text/csv',\n",
        ")\n",
        "\n",
        "\n",
        "tv = tv.dropna()\n",
        "sample1 = tv.head(30)\n",
        "\n",
        "\n",
        "if page == \"Page 1\":\n",
        "    alt.data_transformers.disable_max_rows()\n",
        "    st.title('top rated netflix shows')\n",
        "    st.markdown('**introduction about our dataset** ')\n",
        "    st.write('The top Netflix movies dataset on Kaggle is a collection of information about the most popular and highly rated films that are available to stream on the popular entertainment platform, Netflix. The dataset includes a variety of details about each movie, such as its title, release year, cast, and IMDb rating. It also includes information about the genres and categories that each movie belongs to, as well as its runtime and the countries in which it was produced. ')\n",
        "    st.write('This dataset is a valuable resource for anyone interested in exploring the most popular movies on Netflix and understanding the trends and preferences of the platforms users. It can be used for a variety of purposes, including data analysis, machine learning projects, and more.')\n",
        "    st.markdown('**findings**')\n",
        "    st.write('the Top Rated TV Shows dataset on Kaggle also includes details on the genre of each show, the number of episodes, and the average runtime of each episode. This allows you to see which genres are most popular, how long the average episode is, and how much content each show has. You can also use this dataset to compare the ratings of different shows and see which ones have the highest overall scores. This can be a great way to discover new shows to watch or to see how your favorite shows stack up against the competition. Additionally, you can use this dataset to analyze trends in television over time and see how the industry has changed. For example, you might be able to see if certain genres are becoming more popular or if there is a trend toward shorter episode lengths. Overall, the Top Rated TV Shows dataset on Kaggle provides a wealth of information for anyone interested in television and its history.')\n",
        "\n",
        "elif page == \"Page 2\":\n",
        "    showname = st.selectbox(\"Select your tv show\",sample1['origin_country'].unique())\n",
        "    st.title('page 2')\n",
        "    st.write(showname)\n",
        "    plot_type=st.radio(\"select the plot type\",['scatter','line'])\n",
        "    if plot_type == 'scatter':\n",
        "      pl = alt.Chart(sample1[sample1['origin_country']==showname]).mark_circle().encode(\n",
        "      x = 'vote_count:N',\n",
        "      y ='popularity:N',\n",
        "      color = 'name:N',\n",
        "      tooltip = ['vote_count','popularity','name']).interactive()\n",
        "    else:\n",
        "      pl = alt.Chart(sample1[sample1['origin_country']==showname]).mark_line().encode(\n",
        "        x = 'popularity:N',\n",
        "        y ='vote_count:N',\n",
        "        tooltip = ['origin_country','popularity','name']\n",
        "    ).interactive()\n",
        "    st.altair_chart(pl)\n",
        "elif page == \"Page 3\":\n",
        "    st.title('page 3')\n",
        "\n",
        "    Bar_plot = st.checkbox(\"Bar plot\")\n",
        "    Pie_plot = st.checkbox(\"Pie plot\")\n",
        "\n",
        "    if Bar_plot:\n",
        "      st.subheader('Bar chart')\n",
        "      tv=tv.head(10)\n",
        "      bar = alt.Chart(tv).mark_bar().encode(x = 'name',y = 'mean(popularity)',color = 'name:N')\n",
        "      bar\n",
        "\n",
        "    if Pie_plot:\n",
        "      st.subheader('Pie chart')\n",
        "      fig1, ax1 = plt.subplots()\n",
        "      ax1.pie(tv['vote_count'].head(10), labels=tv['name'].head(10), autopct='%1.1f%%',shadow=True, startangle=90)\n",
        "      ax1.axis('equal')  # Equal aspect ratio ensures that pie is drawn as a circle.\n",
        "      st.pyplot(fig1)\n",
        "      \n",
        "elif page == \"Page 4\":\n",
        "    st.title('page 4')\n",
        "    fig = px.scatter(tv.head(40), x=\"vote_count\",\n",
        "                    y=\"popularity\",\n",
        "                    size=\"popularity\",\n",
        "                    color=\"name\",\n",
        "                    hover_name=\"name\",\n",
        "                    log_x=True,\n",
        "                    size_max=60, )\n",
        "    fig\n",
        "\n",
        "\n",
        "\n",
        "    graph = graphviz.Digraph()\n",
        "    graph.edge('movies', 'horror')\n",
        "    graph.edge('horror', 'conjuring')\n",
        "    graph.edge('conjuring', 'joker')\n",
        "    graph.edge('movies', 'drama')\n",
        "    graph.edge('drama', 'friends')\n",
        "    graph.edge('friends', 'mom')\n",
        "\n",
        "\n",
        "    st.graphviz_chart(graph)\n",
        "    \n"
      ]
    },
    {
      "cell_type": "code",
      "execution_count": 133,
      "metadata": {
        "colab": {
          "base_uri": "https://localhost:8080/"
        },
        "id": "hmRv23iM64Y4",
        "outputId": "9146b550-3fc9-4b4f-8950-7bf6c2249d28"
      },
      "outputs": [
        {
          "output_type": "stream",
          "name": "stdout",
          "text": [
            "\u001b[K\u001b[?25hnpx: installed 22 in 2.734s\n",
            "your url is: https://fuzzy-lights-float-34-170-254-48.loca.lt\n",
            "^C\n"
          ]
        }
      ],
      "source": [
        "!streamlit run tv.py &>/dev/null&\n",
        "!npx localtunnel --port 8501"
      ]
    }
  ],
  "metadata": {
    "colab": {
      "provenance": [],
      "authorship_tag": "ABX9TyPM8BiY5FhBGY+vPG3D9bxk"
    },
    "kernelspec": {
      "display_name": "Python 3",
      "name": "python3"
    },
    "language_info": {
      "name": "python"
    }
  },
  "nbformat": 4,
  "nbformat_minor": 0
}